{
 "cells": [
  {
   "cell_type": "markdown",
   "id": "31dca146",
   "metadata": {},
   "source": [
    "# APIを使う\n",
    "\n",
    "緯度経度情報から、都道府県名を取得するチュートリアルです。  \n",
    "今回は、[HeartRails Geo API](https://geoapi.heartrails.com/)を使ってみます。"
   ]
  },
  {
   "cell_type": "markdown",
   "id": "55beaa89",
   "metadata": {},
   "source": [
    "`tqdm`は、処理状況を確認できるプログレスバーを表示するモジュールです。必要に応じてインストールしてください。\n",
    "\n",
    "`ipywidgets`は、プログレスバーをJupyter Notebook内で表示するために必要です。"
   ]
  },
  {
   "cell_type": "markdown",
   "id": "002e1e33",
   "metadata": {},
   "source": [
    "必要に応じて、`pip`を`pip3`と読み替えてください。"
   ]
  },
  {
   "cell_type": "code",
   "execution_count": 1,
   "id": "9fbdbc72",
   "metadata": {},
   "outputs": [
    {
     "name": "stdout",
     "output_type": "stream",
     "text": [
      "Requirement already satisfied: tqdm in /Users/shu/infovis/virtualenvs/.venv/lib/python3.12/site-packages (4.67.0)\n",
      "Requirement already satisfied: ipywidgets in /Users/shu/infovis/virtualenvs/.venv/lib/python3.12/site-packages (8.1.5)\n",
      "Requirement already satisfied: comm>=0.1.3 in /Users/shu/infovis/virtualenvs/.venv/lib/python3.12/site-packages (from ipywidgets) (0.2.2)\n",
      "Requirement already satisfied: ipython>=6.1.0 in /Users/shu/infovis/virtualenvs/.venv/lib/python3.12/site-packages (from ipywidgets) (8.29.0)\n",
      "Requirement already satisfied: traitlets>=4.3.1 in /Users/shu/infovis/virtualenvs/.venv/lib/python3.12/site-packages (from ipywidgets) (5.14.3)\n",
      "Requirement already satisfied: widgetsnbextension~=4.0.12 in /Users/shu/infovis/virtualenvs/.venv/lib/python3.12/site-packages (from ipywidgets) (4.0.13)\n",
      "Requirement already satisfied: jupyterlab-widgets~=3.0.12 in /Users/shu/infovis/virtualenvs/.venv/lib/python3.12/site-packages (from ipywidgets) (3.0.13)\n",
      "Requirement already satisfied: decorator in /Users/shu/infovis/virtualenvs/.venv/lib/python3.12/site-packages (from ipython>=6.1.0->ipywidgets) (5.1.1)\n",
      "Requirement already satisfied: jedi>=0.16 in /Users/shu/infovis/virtualenvs/.venv/lib/python3.12/site-packages (from ipython>=6.1.0->ipywidgets) (0.19.1)\n",
      "Requirement already satisfied: matplotlib-inline in /Users/shu/infovis/virtualenvs/.venv/lib/python3.12/site-packages (from ipython>=6.1.0->ipywidgets) (0.1.7)\n",
      "Requirement already satisfied: prompt-toolkit<3.1.0,>=3.0.41 in /Users/shu/infovis/virtualenvs/.venv/lib/python3.12/site-packages (from ipython>=6.1.0->ipywidgets) (3.0.48)\n",
      "Requirement already satisfied: pygments>=2.4.0 in /Users/shu/infovis/virtualenvs/.venv/lib/python3.12/site-packages (from ipython>=6.1.0->ipywidgets) (2.18.0)\n",
      "Requirement already satisfied: stack-data in /Users/shu/infovis/virtualenvs/.venv/lib/python3.12/site-packages (from ipython>=6.1.0->ipywidgets) (0.6.3)\n",
      "Requirement already satisfied: pexpect>4.3 in /Users/shu/infovis/virtualenvs/.venv/lib/python3.12/site-packages (from ipython>=6.1.0->ipywidgets) (4.9.0)\n",
      "Requirement already satisfied: parso<0.9.0,>=0.8.3 in /Users/shu/infovis/virtualenvs/.venv/lib/python3.12/site-packages (from jedi>=0.16->ipython>=6.1.0->ipywidgets) (0.8.4)\n",
      "Requirement already satisfied: ptyprocess>=0.5 in /Users/shu/infovis/virtualenvs/.venv/lib/python3.12/site-packages (from pexpect>4.3->ipython>=6.1.0->ipywidgets) (0.7.0)\n",
      "Requirement already satisfied: wcwidth in /Users/shu/infovis/virtualenvs/.venv/lib/python3.12/site-packages (from prompt-toolkit<3.1.0,>=3.0.41->ipython>=6.1.0->ipywidgets) (0.2.13)\n",
      "Requirement already satisfied: executing>=1.2.0 in /Users/shu/infovis/virtualenvs/.venv/lib/python3.12/site-packages (from stack-data->ipython>=6.1.0->ipywidgets) (2.1.0)\n",
      "Requirement already satisfied: asttokens>=2.1.0 in /Users/shu/infovis/virtualenvs/.venv/lib/python3.12/site-packages (from stack-data->ipython>=6.1.0->ipywidgets) (2.4.1)\n",
      "Requirement already satisfied: pure-eval in /Users/shu/infovis/virtualenvs/.venv/lib/python3.12/site-packages (from stack-data->ipython>=6.1.0->ipywidgets) (0.2.3)\n",
      "Requirement already satisfied: six>=1.12.0 in /Users/shu/infovis/virtualenvs/.venv/lib/python3.12/site-packages (from asttokens>=2.1.0->stack-data->ipython>=6.1.0->ipywidgets) (1.16.0)\n"
     ]
    }
   ],
   "source": [
    "!pip install tqdm\n",
    "!pip install ipywidgets"
   ]
  },
  {
   "cell_type": "code",
   "execution_count": 2,
   "id": "daaafddf",
   "metadata": {},
   "outputs": [],
   "source": [
    "import time\n",
    "import requests\n",
    "from tqdm.notebook import tqdm"
   ]
  },
  {
   "cell_type": "markdown",
   "id": "ea07abc1",
   "metadata": {},
   "source": [
    "## ファイルを読み込み、最初の1行を試す"
   ]
  },
  {
   "cell_type": "code",
   "execution_count": 3,
   "id": "4d0079d2",
   "metadata": {},
   "outputs": [],
   "source": [
    "loc_data = \"./data/loc_data.txt\""
   ]
  },
  {
   "cell_type": "code",
   "execution_count": 4,
   "id": "e95850e5",
   "metadata": {},
   "outputs": [],
   "source": [
    "with open(loc_data, \"r\") as f:\n",
    "    line = f.readline()\n",
    "    x, y = line.split()"
   ]
  },
  {
   "cell_type": "code",
   "execution_count": 5,
   "id": "16e9b769",
   "metadata": {},
   "outputs": [
    {
     "name": "stdout",
     "output_type": "stream",
     "text": [
      "142.35792 43.76344\n"
     ]
    }
   ],
   "source": [
    "# 緯度経度情報を確認\n",
    "\n",
    "print(x, y)"
   ]
  },
  {
   "cell_type": "code",
   "execution_count": 6,
   "id": "4b647dad",
   "metadata": {},
   "outputs": [],
   "source": [
    "API_URL = lambda x, y: f\"https://geoapi.heartrails.com/api/json?method=searchByGeoLocation&x={x}&y={y}\""
   ]
  },
  {
   "cell_type": "code",
   "execution_count": 7,
   "id": "8b659167",
   "metadata": {},
   "outputs": [],
   "source": [
    "response = requests.get(API_URL(x, y))"
   ]
  },
  {
   "cell_type": "code",
   "execution_count": 8,
   "id": "df587e05",
   "metadata": {},
   "outputs": [
    {
     "data": {
      "text/plain": [
       "{'response': {'location': [{'city': '旭川市',\n",
       "    'city_kana': 'あさひかわし',\n",
       "    'town': '宮下通',\n",
       "    'town_kana': 'みやしたどおり',\n",
       "    'x': '142.360827',\n",
       "    'y': '43.763531',\n",
       "    'distance': 233.92790312264236,\n",
       "    'prefecture': '北海道',\n",
       "    'postal': '0700030'},\n",
       "   {'city': '旭川市',\n",
       "    'city_kana': 'あさひかわし',\n",
       "    'town': '一条通',\n",
       "    'town_kana': '1じょうどおり',\n",
       "    'x': '142.361512',\n",
       "    'y': '43.764919',\n",
       "    'distance': 332.41278094665756,\n",
       "    'prefecture': '北海道',\n",
       "    'postal': '0700031'},\n",
       "   {'city': '旭川市',\n",
       "    'city_kana': 'あさひかわし',\n",
       "    'town': '二条通',\n",
       "    'town_kana': '2じょうどおり',\n",
       "    'x': '142.362116',\n",
       "    'y': '43.766027',\n",
       "    'distance': 443.5385989448891,\n",
       "    'prefecture': '北海道',\n",
       "    'postal': '0700032'},\n",
       "   {'city': '旭川市',\n",
       "    'city_kana': 'あさひかわし',\n",
       "    'town': '神楽一条',\n",
       "    'town_kana': 'かぐら1じょう',\n",
       "    'x': '142.357761',\n",
       "    'y': '43.75925',\n",
       "    'distance': 466.60380724436897,\n",
       "    'prefecture': '北海道',\n",
       "    'postal': '0708001'},\n",
       "   {'city': '旭川市',\n",
       "    'city_kana': 'あさひかわし',\n",
       "    'town': '宮前２条',\n",
       "    'town_kana': 'みやまえ2じょう',\n",
       "    'x': '142.362305',\n",
       "    'y': '43.760388',\n",
       "    'distance': 489.6056430503339,\n",
       "    'prefecture': '北海道',\n",
       "    'postal': '0788392'},\n",
       "   {'city': '旭川市',\n",
       "    'city_kana': 'あさひかわし',\n",
       "    'town': '神楽二条',\n",
       "    'town_kana': 'かぐら2じょう',\n",
       "    'x': '142.353263',\n",
       "    'y': '43.760029',\n",
       "    'distance': 533.2576471651049,\n",
       "    'prefecture': '北海道',\n",
       "    'postal': '0708002'},\n",
       "   {'city': '旭川市',\n",
       "    'city_kana': 'あさひかわし',\n",
       "    'town': '三条通',\n",
       "    'town_kana': '3じょうどおり',\n",
       "    'x': '142.362704',\n",
       "    'y': '43.767101',\n",
       "    'distance': 560.3618604795075,\n",
       "    'prefecture': '北海道',\n",
       "    'postal': '0700033'},\n",
       "   {'city': '旭川市',\n",
       "    'city_kana': 'あさひかわし',\n",
       "    'town': '神楽三条',\n",
       "    'town_kana': 'かぐら3じょう',\n",
       "    'x': '142.352037',\n",
       "    'y': '43.758991',\n",
       "    'distance': 684.8320775212417,\n",
       "    'prefecture': '北海道',\n",
       "    'postal': '0708003'},\n",
       "   {'city': '旭川市',\n",
       "    'city_kana': 'あさひかわし',\n",
       "    'town': '四条通',\n",
       "    'town_kana': '4じょうどおり',\n",
       "    'x': '142.363329',\n",
       "    'y': '43.768208',\n",
       "    'distance': 686.1515621600614,\n",
       "    'prefecture': '北海道',\n",
       "    'postal': '0700034'},\n",
       "   {'city': '旭川市',\n",
       "    'city_kana': 'あさひかわし',\n",
       "    'town': '五条通',\n",
       "    'town_kana': '5じょうどおり',\n",
       "    'x': '142.363917',\n",
       "    'y': '43.769332',\n",
       "    'distance': 814.016930511416,\n",
       "    'prefecture': '北海道',\n",
       "    'postal': '0700035'}]}}"
      ]
     },
     "execution_count": 8,
     "metadata": {},
     "output_type": "execute_result"
    }
   ],
   "source": [
    "response.json()"
   ]
  },
  {
   "cell_type": "code",
   "execution_count": 9,
   "id": "54cf4b8f",
   "metadata": {},
   "outputs": [
    {
     "data": {
      "text/plain": [
       "'北海道'"
      ]
     },
     "execution_count": 9,
     "metadata": {},
     "output_type": "execute_result"
    }
   ],
   "source": [
    "prefecture = response.json()[\"response\"][\"location\"][0][\"prefecture\"]\n",
    "prefecture"
   ]
  },
  {
   "cell_type": "markdown",
   "id": "d61c8c28",
   "metadata": {},
   "source": [
    "## まとめて処理する"
   ]
  },
  {
   "cell_type": "code",
   "execution_count": 10,
   "id": "50c3c4f9",
   "metadata": {},
   "outputs": [
    {
     "data": {
      "application/vnd.jupyter.widget-view+json": {
       "model_id": "c3904c3c96df40b9a0066c4c4c4029af",
       "version_major": 2,
       "version_minor": 0
      },
      "text/plain": [
       "  0%|          | 0/23599 [00:00<?, ?it/s]"
      ]
     },
     "metadata": {},
     "output_type": "display_data"
    },
    {
     "ename": "KeyboardInterrupt",
     "evalue": "",
     "output_type": "error",
     "traceback": [
      "\u001b[0;31m---------------------------------------------------------------------------\u001b[0m",
      "\u001b[0;31mKeyboardInterrupt\u001b[0m                         Traceback (most recent call last)",
      "Cell \u001b[0;32mIn[10], line 9\u001b[0m\n\u001b[1;32m      6\u001b[0m     lines \u001b[38;5;241m=\u001b[39m f\u001b[38;5;241m.\u001b[39mreadlines()\n\u001b[1;32m      8\u001b[0m \u001b[38;5;28;01mfor\u001b[39;00m line \u001b[38;5;129;01min\u001b[39;00m tqdm(lines): \u001b[38;5;66;03m# tqdmを使うと、プログレスバーが表示されて進捗がわかりやすい\u001b[39;00m\n\u001b[0;32m----> 9\u001b[0m     \u001b[43mtime\u001b[49m\u001b[38;5;241;43m.\u001b[39;49m\u001b[43msleep\u001b[49m\u001b[43m(\u001b[49m\u001b[38;5;241;43m1\u001b[39;49m\u001b[43m)\u001b[49m \u001b[38;5;66;03m# 1秒休む\u001b[39;00m\n\u001b[1;32m     10\u001b[0m     x, y \u001b[38;5;241m=\u001b[39m line\u001b[38;5;241m.\u001b[39msplit()\n\u001b[1;32m     11\u001b[0m     response \u001b[38;5;241m=\u001b[39m requests\u001b[38;5;241m.\u001b[39mget(API_URL(x, y))\n",
      "\u001b[0;31mKeyboardInterrupt\u001b[0m: "
     ]
    }
   ],
   "source": [
    "# 保存先ファイルを作る\n",
    "with open(\"./data/pref_data.txt\", \"w\") as fw:\n",
    "    fw.write(\"\")\n",
    "\n",
    "with open(loc_data, \"r\") as f:\n",
    "    lines = f.readlines()\n",
    "\n",
    "for line in tqdm(lines): # tqdmを使うと、プログレスバーが表示されて進捗がわかりやすい\n",
    "    time.sleep(1) # 1秒休む\n",
    "    x, y = line.split()\n",
    "    response = requests.get(API_URL(x, y))\n",
    "    try:\n",
    "        prefecture = response.json()[\"response\"][\"location\"][0][\"prefecture\"]\n",
    "    except KeyError as e:\n",
    "        print(x, y, e)\n",
    "    with open(\"./data/pref_data.txt\", \"a\") as fw:\n",
    "        fw.write(f\"{prefecture}\\n\") # 県名を一行ずつファイルに出力する"
   ]
  },
  {
   "cell_type": "markdown",
   "id": "c82ddc84",
   "metadata": {},
   "source": [
    "これで、`pref_data.txt`というファイルに、APIから取得した都道府県名を保存できました。"
   ]
  }
 ],
 "metadata": {
  "kernelspec": {
   "display_name": ".venv",
   "language": "python",
   "name": "python3"
  },
  "language_info": {
   "codemirror_mode": {
    "name": "ipython",
    "version": 3
   },
   "file_extension": ".py",
   "mimetype": "text/x-python",
   "name": "python",
   "nbconvert_exporter": "python",
   "pygments_lexer": "ipython3",
   "version": "3.12.3"
  }
 },
 "nbformat": 4,
 "nbformat_minor": 5
}
